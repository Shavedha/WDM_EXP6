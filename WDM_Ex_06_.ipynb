{
  "nbformat": 4,
  "nbformat_minor": 0,
  "metadata": {
    "colab": {
      "provenance": [],
      "authorship_tag": "ABX9TyNKI4DeaKoPwVpqSRQLeWSv",
      "include_colab_link": true
    },
    "kernelspec": {
      "name": "python3",
      "display_name": "Python 3"
    },
    "language_info": {
      "name": "python"
    }
  },
  "cells": [
    {
      "cell_type": "markdown",
      "metadata": {
        "id": "view-in-github",
        "colab_type": "text"
      },
      "source": [
        "<a href=\"https://colab.research.google.com/github/Shavedha/WDM_EXP6/blob/main/WDM_Ex_06_.ipynb\" target=\"_parent\"><img src=\"https://colab.research.google.com/assets/colab-badge.svg\" alt=\"Open In Colab\"/></a>"
      ]
    },
    {
      "cell_type": "code",
      "execution_count": 1,
      "metadata": {
        "colab": {
          "base_uri": "https://localhost:8080/"
        },
        "id": "xNYSiyVZbTWL",
        "outputId": "bdf1e850-cd35-4af0-cc27-1cb42ef95dc3"
      },
      "outputs": [
        {
          "output_type": "stream",
          "name": "stderr",
          "text": [
            "[nltk_data] Downloading package punkt to /root/nltk_data...\n",
            "[nltk_data]   Unzipping tokenizers/punkt.zip.\n",
            "[nltk_data] Downloading package stopwords to /root/nltk_data...\n",
            "[nltk_data]   Unzipping corpora/stopwords.zip.\n"
          ]
        },
        {
          "output_type": "execute_result",
          "data": {
            "text/plain": [
              "True"
            ]
          },
          "metadata": {},
          "execution_count": 1
        }
      ],
      "source": [
        "import nltk\n",
        "nltk.download('punkt')\n",
        "nltk.download('stopwords')\n"
      ]
    },
    {
      "cell_type": "code",
      "source": [
        "from sklearn.feature_extraction.text import TfidfVectorizer\n",
        "from sklearn.metrics.pairwise import cosine_similarity\n",
        "from nltk.tokenize import word_tokenize\n",
        "from nltk.corpus import stopwords\n",
        "import string\n",
        "\n",
        "# Sample documents\n",
        "documents = [\n",
        "    \"This is the first document.\",\n",
        "    \"This document is the second document.\",\n",
        "    \"And this is the third one.\",\n",
        "    \"Is this the first document?\",\n",
        "]\n",
        "\n",
        "# Preprocessing function to tokenize and remove stopwords/punctuation\n",
        "def preprocess_text(text):\n",
        "    tokens = word_tokenize(text.lower())\n",
        "    tokens = [token for token in tokens if token not in stopwords.words(\"english\") and token not in string.punctuation]\n",
        "    return \" \".join(tokens)\n",
        "    print(tokens)\n",
        "\n",
        "# Preprocess documents\n",
        "preprocessed_docs = [preprocess_text(doc) for doc in documents]\n",
        "\n",
        "# Construct TF-IDF matrix\n",
        "tfidf_vectorizer = TfidfVectorizer()\n",
        "tfidf_matrix = tfidf_vectorizer.fit_transform(preprocessed_docs)\n",
        "\n",
        "\n",
        "# Calculate cosine similarity between query and documents\n",
        "def search(query, tfidf_matrix, tfidf_vectorizer):\n",
        "    preprocessed_query = preprocess_text(query)\n",
        "    query_vector = tfidf_vectorizer.transform([preprocessed_query])\n",
        "\n",
        "    # Calculate cosine similarity between query and documents\n",
        "    similarity_scores = cosine_similarity(query_vector, tfidf_matrix)\n",
        "\n",
        "    # Sort documents based on similarity scores\n",
        "    sorted_indexes = similarity_scores.argsort()[0][::-1]\n",
        "\n",
        "    # Return sorted documents along with their similarity scores\n",
        "    results = [(documents[i], similarity_scores[0, i]) for i in sorted_indexes]\n",
        "    return results\n",
        "\n",
        "# Example query\n",
        "query = \"This is the second document.\"\n",
        "\n",
        "# Perform search\n",
        "search_results = search(query, tfidf_matrix, tfidf_vectorizer)\n",
        "\n",
        "# Display search results\n",
        "i=1\n",
        "print(\"Query:\", query)\n",
        "for result in search_results:\n",
        "    print(\"Document:\",{i}, result[0])\n",
        "    print(\"Similarity Score:\", result[1])\n",
        "    print(\"----------------------\")\n",
        "    i=i+1\n",
        "\n",
        "\n",
        "\n"
      ],
      "metadata": {
        "colab": {
          "base_uri": "https://localhost:8080/"
        },
        "id": "b_N8UdD_b5Gk",
        "outputId": "4d1a366d-e416-4160-eb44-7ba09972922d"
      },
      "execution_count": 4,
      "outputs": [
        {
          "output_type": "stream",
          "name": "stdout",
          "text": [
            "Query: This is the second document.\n",
            "Document: {1} This document is the second document.\n",
            "Similarity Score: 0.943354856790084\n",
            "----------------------\n",
            "Document: {2} Is this the first document?\n",
            "Similarity Score: 0.338542631049127\n",
            "----------------------\n",
            "Document: {3} This is the first document.\n",
            "Similarity Score: 0.338542631049127\n",
            "----------------------\n",
            "Document: {4} And this is the third one.\n",
            "Similarity Score: 0.0\n",
            "----------------------\n"
          ]
        }
      ]
    },
    {
      "cell_type": "code",
      "source": [
        "import requests\n",
        "from bs4 import BeautifulSoup\n",
        "from sklearn.feature_extraction.text import TfidfVectorizer\n",
        "from sklearn.metrics.pairwise import cosine_similarity\n",
        "from nltk.tokenize import word_tokenize\n",
        "from nltk.corpus import stopwords\n",
        "import string\n",
        "\n",
        "# Function to fetch content from a URL\n",
        "def get_webpage_content(url):\n",
        "    try:\n",
        "        response = requests.get(url)\n",
        "        if response.status_code == 200:\n",
        "            return response.text\n",
        "        else:\n",
        "            print(f\"Failed to fetch content from {url}. Status code: {response.status_code}\")\n",
        "    except Exception as e:\n",
        "        print(f\"An error occurred: {str(e)}\")\n",
        "\n",
        "# Preprocessing function to tokenize and remove stopwords/punctuation\n",
        "def preprocess_text(text):\n",
        "    tokens = word_tokenize(text.lower())\n",
        "    tokens = [token for token in tokens if token not in stopwords.words(\"english\") and token not in string.punctuation]\n",
        "    return \" \".join(tokens)\n",
        "\n",
        "# Sample URLs of web pages\n",
        "urls = [\n",
        "   'https://en.wikipedia.org/wiki/Iron_Man']\n",
        "\n",
        "# Fetch content from web pages\n",
        "webpage_contents = [get_webpage_content(url) for url in urls]\n",
        "\n",
        "# Parse HTML content to extract text\n",
        "parsed_texts = []\n",
        "for content in webpage_contents:\n",
        "    soup = BeautifulSoup(content, 'html.parser')\n",
        "    text = soup.get_text(separator=' ')\n",
        "    parsed_texts.append(text)\n",
        "\n",
        "# Preprocess documents\n",
        "preprocessed_docs = [preprocess_text(doc) for doc in parsed_texts]\n",
        "\n",
        "# Construct TF-IDF matrix\n",
        "tfidf_vectorizer = TfidfVectorizer()\n",
        "tfidf_matrix = tfidf_vectorizer.fit_transform(preprocessed_docs)\n",
        "\n",
        "# Function to search query in web pages\n",
        "def search_query_in_webpages(query, tfidf_matrix, tfidf_vectorizer):\n",
        "    preprocessed_query = preprocess_text(query)\n",
        "    query_vector = tfidf_vectorizer.transform([preprocessed_query])\n",
        "\n",
        "    # Calculate cosine similarity between query and web page contents\n",
        "    similarity_scores = cosine_similarity(query_vector, tfidf_matrix)\n",
        "\n",
        "    # Sort web pages based on similarity scores\n",
        "    sorted_indexes = similarity_scores.argsort()[0][::-1]\n",
        "\n",
        "    # Return sorted web pages along with their similarity scores\n",
        "    results = [(urls[i], similarity_scores[0, i]) for i in sorted_indexes]\n",
        "    return results\n",
        "\n",
        "# Example query\n",
        "query = input()\n",
        "\n",
        "# Perform search in web pages\n",
        "search_results = search_query_in_webpages(query, tfidf_matrix, tfidf_vectorizer)\n",
        "\n",
        "# Display search results\n",
        "print(\"Query:\", query)\n",
        "for result in search_results:\n",
        "    print(\"Web Page URL:\", result[0])\n",
        "    print(\"Similarity Score:\", result[1])\n",
        "    print(\"----------------------\")\n"
      ],
      "metadata": {
        "colab": {
          "base_uri": "https://localhost:8080/"
        },
        "id": "PBQTn6PscP-U",
        "outputId": "95827991-a0f9-4d9e-85b4-9f7fd03a49e0"
      },
      "execution_count": 6,
      "outputs": [
        {
          "output_type": "stream",
          "name": "stdout",
          "text": [
            "Iron Man\n",
            "Query: Iron Man\n",
            "Web Page URL: https://en.wikipedia.org/wiki/Iron_Man\n",
            "Similarity Score: 0.8218043596518206\n",
            "----------------------\n"
          ]
        }
      ]
    }
  ]
}